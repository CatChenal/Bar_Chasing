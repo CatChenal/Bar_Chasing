{
 "cells": [
  {
   "cell_type": "markdown",
   "metadata": {},
   "source": [
    "_First code cell from custom template using [`jupyter_lab templates` extension](https://github.com/timkpaine/jupyterlab_templates)._"
   ]
  },
  {
   "cell_type": "code",
   "execution_count": null,
   "metadata": {},
   "outputs": [],
   "source": [
    "# To get multiple outputs from one cell:\n",
    "from IPython.core.interactiveshell import InteractiveShell\n",
    "InteractiveShell.ast_node_interactivity = 'all'\n",
    "\n",
    "from IPython import get_ipython\n",
    "from IPython.display import HTML, Markdown, Image\n",
    "# for presentations:\n",
    "#display(HTML(\"<style>.container { width:100% !important; }</style>\"))\n",
    "\n",
    "import sys\n",
    "from pathlib import Path\n",
    "\n",
    "def sys_info():\n",
    "    frmt = '\\nPython ver: {}\\nPython env: {}\\n'\n",
    "    frmt += 'OS:         {}\\nCurrent dir: {}\\n'\n",
    "    print(frmt.format(sys.version, \n",
    "                      Path(sys.prefix).name,\n",
    "                      sys.platform,\n",
    "                      Path.cwd()))\n",
    "\n",
    "\n",
    "def add_to_sys_path(this_path, up=False):\n",
    "    \"\"\"\n",
    "    Prepend this_path to sys.path.\n",
    "    If up=True, path refers to parent folder (1 level up).\n",
    "    \"\"\"\n",
    "    newp = Path(this_path).as_posix() # no str method (?)\n",
    "    if up:\n",
    "        newp = Path(this_path).parent.as_posix()\n",
    "\n",
    "    msg = F'Path already in sys.path: {newp}'\n",
    "    if newp not in sys.path:\n",
    "        sys.path.insert(1, newp)\n",
    "        msg = F'Path added to sys.path: {newp}'\n",
    "    print(msg)\n",
    "\n",
    "# if notebook inside another folder, eg ./notebooks:\n",
    "nb_folder = 'notebooks'\n",
    "add_to_sys_path(Path.cwd(), Path.cwd().name.startswith(nb_folder))\n",
    "\n",
    "\n",
    "# Filtered dir() for method discovery:\n",
    "def filter_dir(mdl, filter_str=None, start_with_str='_', exclude=True):\n",
    "    \"\"\"Filter dir(mdl) for method discovery.\n",
    "       Input:\n",
    "       :param mdl (object): module, optionally with submodule path(s), e.g. mdl.submdl1.submdl2.\n",
    "       :param filter_str (str, None): filter all method names containing that string.\n",
    "       :param start_with_str (str, '_'), exclude (bool, True): start_with_str and exclude work \n",
    "              together to perform search on non-dunder methods (default).\n",
    "    \"\"\"\n",
    "    search_dir = [d for d in dir(mdl) if not d.startswith(start_with_str) == exclude]\n",
    "    if filter_str is None:\n",
    "        return search_dir\n",
    "    else:\n",
    "        filter_str = filter_str.lower()\n",
    "        return [d for d in search_dir if d.lower().find(filter_str) != -1]\n",
    "\n",
    "\n",
    "def get_project_dirs(which=['data', 'images'],\n",
    "                     nb_folder='notebooks',\n",
    "                     use_parent=True):\n",
    "    '''Create folder(s) named in `which` at the parent level.'''\n",
    "    dir_lst = []\n",
    "    if Path.cwd().name.startswith(nb_folder) or use_parent:\n",
    "        dir_fn = Path.cwd().parent.joinpath\n",
    "    else:\n",
    "        dir_fn = Path.cwd().joinpath\n",
    "        \n",
    "    for d in which:\n",
    "        DIR = dir_fn(d)\n",
    "        if not DIR.exists():\n",
    "            Path.mkdir(DIR)\n",
    "        dir_lst.append(DIR)\n",
    "    return dir_lst\n",
    "\n",
    "DIR_DATA, DIR_IMG = get_project_dirs()\n",
    "    \n",
    "import numpy as np\n",
    "import scipy as sp\n",
    "from scipy import stats as sps\n",
    "import pandas as pd\n",
    "#pd.set_option(\"display.max_colwidth\", 200)\n",
    "\n",
    "import matplotlib as mpl\n",
    "from matplotlib import pyplot as plt\n",
    "plt.ion()\n",
    "plt.style.use('seaborn-muted')\n",
    "\n",
    "from pprint import pprint as pp\n",
    "\n",
    "\n",
    "def add_div(div_class='info', div_start='Tip:', \n",
    "            div_text='Some tip here', output_string=True):\n",
    "    \"\"\"\n",
    "    Behaviour with default `output_string=True`:\n",
    "    The cell is overwritten with the output, but the cell mode is still 'code',\n",
    "    not 'markdown'.\n",
    "    Workaround: After running the function, click on the new cell, press ESC, \n",
    "                type 'm', then run the new cell.\n",
    "    If `output_string=False`, the output is displayed in an new cell with the \n",
    "    code cell visible.\n",
    "    ```\n",
    "    [x]\n",
    "    add_div('alert-warning', 'Tip: ', 'some tip here', output_string=True)\n",
    "    [x]\n",
    "    <div class=\"alert alert-warning\"><b>Tip: </b>some tip here</div>\n",
    "    ```\n",
    "    \"\"\"\n",
    "    accepted = ['info', 'warning', 'danger']\n",
    "    div_class = div_class.lower()\n",
    "    if div_class not in accepted:\n",
    "        msg = f'<div class=\"alert\"><b>Wrong class:&nbsp;</b> `div_start` not in: {accepted}.</div>'\n",
    "        return Markdown(msg)\n",
    "    \n",
    "    div = f\"\"\"<div class=\"alert alert-{div_class}\"><b>{div_start}&nbsp;&nbsp;</b>{div_text}</div>\"\"\"\n",
    "    if output_string:\n",
    "        return get_ipython().set_next_input(div, 'markdown')\n",
    "    else:\n",
    "        return Markdown(div)\n",
    "\n",
    "    \n",
    "def new_section(title='New section'):\n",
    "    style = \"text-align:center;background:#c2d3ef;padding:16px;color:#ffffff;font-size:2em;width:98%\"\n",
    "    div = f'<div style=\"{style}\">{title}</div>'\n",
    "    #return HTML('<div style=\"{}\">{}</div>'.format(style, title))\n",
    "    return get_ipython().set_next_input(div, 'markdown')\n",
    "\n",
    "\n",
    "def show_versions():\n",
    "    txt = '<pre><br>'\n",
    "    txt += F'Python:\\t\\t{sys.version}<br>'\n",
    "    txt += F'Python env:\\t{Path(sys.prefix).name}<br>'\n",
    "    txt += F'Numpy:\\t\\t{np.__version__}<br>'\n",
    "    txt += F'Scipy:\\t\\t{sp.__version__}<br>'\n",
    "    txt += F'Pandas:\\t\\t{pd.__version__}<br>'\n",
    "    txt += F'Matplotlib:\\t{mpl.__version__}<br>'\n",
    "    txt += F'Currrent dir: {Path.cwd()}'\n",
    "    txt += '</pre>'\n",
    "    div = f\"\"\"<div class=\"alert alert-info\"><b>Versions:</b><br>{txt}</div>\"\"\"\n",
    "    return HTML(div)\n",
    "\n",
    "\n",
    "# autoreload extension\n",
    "if 'autoreload' not in get_ipython().extension_manager.loaded:\n",
    "    get_ipython().run_line_magic('load_ext', 'autoreload')\n",
    "\n",
    "%autoreload 2\n",
    "\n",
    "#..................\n",
    "sys_info()\n",
    "\n",
    "no_wmark = False\n",
    "try:\n",
    "    %load_ext watermark\n",
    "    %watermark\n",
    "except ModuleNotFoundError:\n",
    "    no_wmark = True\n",
    "\n",
    "if no_wmark:\n",
    "    show_versions()\n",
    "else:\n",
    "    %watermark -iv"
   ]
  },
  {
   "cell_type": "markdown",
   "metadata": {},
   "source": [
    "---\n",
    "---\n",
    "# 'Bar chase': animated bar plot with covid-19 data\n",
    "\n",
    "## Gif generation using matplotlib and pillow\n",
    "---"
   ]
  },
  {
   "cell_type": "markdown",
   "metadata": {},
   "source": [
    "## JHU CSSE covid-19 data \n",
    "## [times series](https://github.com/CSSEGISandData/COVID-19/tree/master/csse_covid_19_data/csse_covid_19_time_series)  \n",
    "\n",
    "```\n",
    "time_series_covid19_confirmed_US.csv\tUpdates MI historical confirmed time series\n",
    "time_series_covid19_deaths_US.csv\t    Updates MI historical deaths time series\n",
    "\n",
    "time_series_covid19_confirmed_global.csv\tUpdates global confirmed timeseries with MI mods\n",
    "time_series_covid19_deaths_global.csv\t    Correction for MI in 6/9 US deaths\n",
    "time_series_covid19_recovered_global.csv\tautomated update\n",
    "```\n",
    "## Timeseries formats:\n",
    "#### Global timeseries:\n",
    "```\n",
    "Province/State, Country/Region, Lat, Long, 1/22/20,...,6/17/20\n",
    "```\n",
    "=> aggregate by 'Country/Region'.  \n",
    "\n",
    "#### US timeseries:\n",
    "```\n",
    "UID, iso2, iso3, code3, FIPS, Admin2, Province_State,Country_Region, Lat, Long_, Combined_Key, Population, 1/22/20,...,6/17/20\n",
    "# Example:\n",
    "\n",
    "     UID, iso2, iso3, code3,   FIPS, Admin2, Province_State, Country_Region,         Lat,       Long_,           Combined_Key, Population, 1/22/20,...,6/17/20\n",
    "      16,   AS,  ASM,    16,   60.0,       , American Samoa,             US,     -14.271,     -170.132,   \"American Samoa, US\",     55641, 0, ..., 0\n",
    "84001003,   US,  USA,   840, 1003.0, Baldwin,       Alabama,             US, 30.72774991, -87.72207058, \"Baldwin, Alabama, US\",    223234, 0, ..., 9\n",
    "```\n",
    "=> aggregate by 'Province_State'."
   ]
  },
  {
   "cell_type": "code",
   "execution_count": null,
   "metadata": {},
   "outputs": [],
   "source": [
    "# Local import\n",
    "from barchase import dataset\n",
    "from barchase import plotting\n",
    "from barchase import utils"
   ]
  },
  {
   "cell_type": "markdown",
   "metadata": {},
   "source": [
    "## Create the images output folder and subfolders"
   ]
  },
  {
   "cell_type": "code",
   "execution_count": null,
   "metadata": {},
   "outputs": [],
   "source": [
    "# dict of png files for each dataset:\n",
    "all_png_dirs = dataset.all_barchase_dirs()\n",
    "\n",
    "# associated pictures folder:\n",
    "global_conf_dir = all_png_dirs[('confirmed', 'global')]\n",
    "utils.folder_info(global_conf_dir)\n",
    "\n",
    "global_deaths_dir = all_png_dirs[('deaths', 'global')]\n",
    "global_recov_dir = all_png_dirs[('recovered', 'global')]\n",
    "us_conf_dir = all_png_dirs[('confirmed', 'US')]\n",
    "us_deaths_dir = all_png_dirs[('deaths', 'US')]"
   ]
  },
  {
   "cell_type": "markdown",
   "metadata": {},
   "source": [
    "## Data retrieval & processing: `dataset.get_JHU_CSSE_covid_ts()`\n",
    "* The datasets are processed to output an additional column ('row_color') in order the keep the bars associated with the same color over the entire series"
   ]
  },
  {
   "cell_type": "code",
   "execution_count": null,
   "metadata": {},
   "outputs": [],
   "source": [
    "global_ts=True\n",
    "kind='deaths'\n",
    "x_label='COVID-19 global deaths'\n",
    "\n",
    "df, png_folder = dataset.get_JHU_CSSE_covid_ts(ts_kind=kind,\n",
    "                                               global_ts=global_ts)\n",
    "\n",
    "# new_data? \n",
    "if df is not None:\n",
    "    #last col='row_color':\n",
    "    days = df.columns.to_list()[:-1]\n",
    "    #for naming gif:\n",
    "    most_recent = days[-1].strftime('%Y_%m_%d')\n",
    "    \n",
    "    print(kind, F\"global: {global_ts}\", df.shape)\n",
    "    df.head(1)"
   ]
  },
  {
   "cell_type": "markdown",
   "metadata": {},
   "source": [
    "## Data plotting: `plotting.barh_topN()`"
   ]
  },
  {
   "cell_type": "code",
   "execution_count": null,
   "metadata": {},
   "outputs": [],
   "source": [
    "# filter df by_country with [day, row_color]\n",
    "\n",
    "d1 = days[-100]\n",
    "d2 = days[-1]\n",
    "\n",
    "\n",
    "plotting.barh_topN(d1, df=df, \n",
    "                   ts_kind=x_label,\n",
    "                   #save_dir=png_folder,\n",
    "                   save_as=None,  #i.e. don't save\n",
    "                   show_fig=True)\n",
    "        \n",
    "plotting.barh_topN(d2, df=df, \n",
    "                   ts_kind=x_label,\n",
    "                   save_as=None,\n",
    "                   show_fig=True)"
   ]
  },
  {
   "cell_type": "markdown",
   "metadata": {},
   "source": [
    "---\n",
    "# All operations wrapped into `plotting.update_gif()`\n",
    "\n",
    "## Gif generated from saved bar plots (png), then by using pil to open them & save to gif:\n",
    "* Method allows saving of new images only.\n",
    "\n",
    "# If plotting function has changed, it is recommended to redo all plots. \n",
    "## To do so, pass `replace_pics=True` to `update_gif()`. "
   ]
  },
  {
   "cell_type": "markdown",
   "metadata": {},
   "source": [
    "### Global deaths"
   ]
  },
  {
   "cell_type": "code",
   "execution_count": null,
   "metadata": {},
   "outputs": [],
   "source": [
    "deaths_gif, df0 = plotting.update_gif(kind='deaths',\n",
    "                                      global_ts=True,\n",
    "                                      x_label='COVID-19 global deaths',\n",
    "                                      replace_pics=True,\n",
    "                                      plot_last_day=True)\n",
    "deaths_gif"
   ]
  },
  {
   "cell_type": "raw",
   "metadata": {},
   "source": [
    "# Show the gif (turne cell mode to 'Code')\n",
    "Image(filename=deaths_gif)"
   ]
  },
  {
   "cell_type": "markdown",
   "metadata": {},
   "source": [
    "### US deaths"
   ]
  },
  {
   "cell_type": "code",
   "execution_count": null,
   "metadata": {},
   "outputs": [],
   "source": [
    "us_deaths_gif, us0 = plotting.update_gif(kind='deaths',\n",
    "                                         global_ts=False,\n",
    "                                         x_label='COVID-19 deaths, US',\n",
    "                                         per_multiple='thousands',\n",
    "                                         replace_pics=True,\n",
    "                                         plot_last_day=True)"
   ]
  },
  {
   "cell_type": "raw",
   "metadata": {},
   "source": [
    "Image(filename=us_deaths_gif)"
   ]
  },
  {
   "cell_type": "markdown",
   "metadata": {},
   "source": [
    "### Global cases"
   ]
  },
  {
   "cell_type": "code",
   "execution_count": null,
   "metadata": {},
   "outputs": [],
   "source": [
    "cases_gif, df1 = plotting.update_gif(kind='confirmed',\n",
    "                                     global_ts=True,\n",
    "                                     x_label='COVID-19 global cases',\n",
    "                                     per_multiple='thousands',  #millions',\n",
    "                                     replace_pics=True,\n",
    "                                     plot_last_day=True)"
   ]
  },
  {
   "cell_type": "raw",
   "metadata": {},
   "source": [
    "Image(filename=cases_gif)"
   ]
  },
  {
   "cell_type": "markdown",
   "metadata": {},
   "source": [
    "### US cases"
   ]
  },
  {
   "cell_type": "code",
   "execution_count": null,
   "metadata": {},
   "outputs": [],
   "source": [
    "us_cases_gif, us1 = plotting.update_gif(kind='confirmed',\n",
    "                                        global_ts=False,\n",
    "                                        x_label='COVID-19 cases, US',\n",
    "                                        per_multiple='thousands',\n",
    "                                        replace_pics=True,\n",
    "                                        plot_last_day=True)"
   ]
  },
  {
   "cell_type": "raw",
   "metadata": {},
   "source": [
    "Image(filename=us_cases_gif)"
   ]
  }
 ],
 "metadata": {
  "kernelspec": {
   "display_name": "Python 3",
   "language": "python",
   "name": "python3"
  },
  "language_info": {
   "codemirror_mode": {
    "name": "ipython",
    "version": 3
   },
   "file_extension": ".py",
   "mimetype": "text/x-python",
   "name": "python",
   "nbconvert_exporter": "python",
   "pygments_lexer": "ipython3",
   "version": "3.7.6"
  }
 },
 "nbformat": 4,
 "nbformat_minor": 4
}
